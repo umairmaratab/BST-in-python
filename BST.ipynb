{
 "cells": [
  {
   "cell_type": "code",
   "execution_count": 23,
   "id": "44583d46-76ce-4c7b-9ad2-e21574188c78",
   "metadata": {},
   "outputs": [],
   "source": [
    "class TreeNode:\n",
    "    def __init__(self, x):\n",
    "        self.val = x\n",
    "        self.left = None\n",
    "        self.right = None"
   ]
  },
  {
   "cell_type": "code",
   "execution_count": 24,
   "id": "cbafdcab-c61d-45fb-914f-2a1c87c4e7fd",
   "metadata": {},
   "outputs": [],
   "source": [
    "from graphviz import Digraph\n",
    "\n",
    "def visualize_tree(tree):\n",
    "    if tree is None: return 'Nothing in the tree!'\n",
    "    def add_nodes_edges(tree, dot=None):\n",
    "    # Create Digraph object\n",
    "    \n",
    "        if dot is None:\n",
    "            dot = Digraph()\n",
    "            dot.attr('node', shape='circle')\n",
    "            dot.node(name=str(tree), label=str(tree.val))\n",
    "        for child in [tree.left, tree.right]: # do for all children\n",
    "            if child is not None:\n",
    "                if child == tree.left: dot.attr('node', shape='circle', style='filled',\n",
    "                fillcolor='lightblue')\n",
    "                if child == tree.right: dot.attr('node', shape='doublecircle', style='filled',\n",
    "                fillcolor='seashell')\n",
    "                dot.node(name=str(child) ,label=str(child.val))\n",
    "                dot.edge(str(tree), str(child))\n",
    "                dot = add_nodes_edges(child, dot=dot) # recursive call\n",
    "        return dot\n",
    "    \n",
    "    # Add nodes recursively and create a list of edges\n",
    "    dot = add_nodes_edges(tree)\n",
    "\n",
    "    # Visualize the graph\n",
    "    display(dot)\n",
    "def print_tree(tree, level=0, label='.'):\n",
    "    print(' ' * (level*2) + label + ':', tree.val)\n",
    "    for child, lbl in zip([tree.left, tree.right], ['L', 'R']):\n",
    "        if child is not None:\n",
    "            print_tree(child, level+1, lbl)\n",
    "    "
   ]
  },
  {
   "cell_type": "code",
   "execution_count": 25,
   "id": "b38e35da-ae70-4e22-ac9f-cceaffc510be",
   "metadata": {},
   "outputs": [],
   "source": [
    "# This dfs is implemented on Pre-order Traversal\n",
    "def dfs_pre(self):\n",
    "    print(self.val)\n",
    "    \n",
    "    if self.left:\n",
    "        self.left.dfs_pre()\n",
    "    if self.right:\n",
    "        self.right.dfs_pre()\n",
    "        \n",
    "TreeNode.dfs_pre = dfs_pre"
   ]
  },
  {
   "cell_type": "code",
   "execution_count": 26,
   "id": "06006255-9d81-475e-82ea-25a3d303bc32",
   "metadata": {},
   "outputs": [],
   "source": [
    "def dfs_post(self):\n",
    "    if self.left:\n",
    "        self.left.dfs_post()\n",
    "    if self.right:\n",
    "        self.right.dfs_post()\n",
    "    print(self.val)\n",
    "    \n",
    "TreeNode.dfs_post = dfs_post"
   ]
  },
  {
   "cell_type": "code",
   "execution_count": 37,
   "id": "7910f9e1-eb42-4a55-a877-ddf34828f1fb",
   "metadata": {},
   "outputs": [],
   "source": [
    "def dfs_inorder(self):\n",
    "    if self.left:\n",
    "        self.left.dfs_inorder()\n",
    "    print(self.val)\n",
    "    \n",
    "    if self.right:\n",
    "        self.right.dfs_inorder()\n",
    "    \n",
    "TreeNode.dfs_inorder = dfs_inorder"
   ]
  },
  {
   "cell_type": "markdown",
   "id": "afe1d41b-2570-49b1-99fc-4250aa103a7e",
   "metadata": {},
   "source": [
    "### Above code was from previous notebook so actual BST code starts from here."
   ]
  },
  {
   "cell_type": "markdown",
   "id": "fd1d1efe-9c2b-4cc8-80a3-c7849e167c0b",
   "metadata": {},
   "source": [
    "# Binray Search Tree"
   ]
  },
  {
   "cell_type": "code",
   "execution_count": 61,
   "id": "0c886f75-5ac0-45da-9d9b-c7b80f17e1db",
   "metadata": {},
   "outputs": [],
   "source": [
    "class BST(TreeNode):\n",
    "    def __init__(self, val, parent = None):\n",
    "        super().__init__(val)\n",
    "        self.parent = parent\n",
    "        \n",
    "        \n",
    "    def insert(self, val):\n",
    "        if val < self.val: # insert into left\n",
    "            if self.left is None:\n",
    "                new_node = BST(val, parent=self)\n",
    "                self.left = new_node\n",
    "            else:\n",
    "                self.left.insert(val)\n",
    "            \n",
    "        else: # greater\n",
    "            if self.right is None:\n",
    "                self.right = BST(val, parent=self)\n",
    "                \n",
    "            else:\n",
    "                self.right.insert(val)"
   ]
  },
  {
   "cell_type": "code",
   "execution_count": 62,
   "id": "8db5493d-2e39-41a8-ae7d-0eaac30f2ab7",
   "metadata": {},
   "outputs": [
    {
     "name": "stdout",
     "output_type": "stream",
     "text": [
      "20\n"
     ]
    }
   ],
   "source": [
    "b = BST(20)\n",
    "print(b.val)"
   ]
  },
  {
   "cell_type": "code",
   "execution_count": 63,
   "id": "737606f2-f82e-4ff5-a43f-854fc58f7acf",
   "metadata": {},
   "outputs": [
    {
     "data": {
      "image/svg+xml": [
       "<?xml version=\"1.0\" encoding=\"UTF-8\" standalone=\"no\"?>\n",
       "<!DOCTYPE svg PUBLIC \"-//W3C//DTD SVG 1.1//EN\"\n",
       " \"http://www.w3.org/Graphics/SVG/1.1/DTD/svg11.dtd\">\n",
       "<!-- Generated by graphviz version 2.43.0 (0)\n",
       " -->\n",
       "<!-- Title: %3 Pages: 1 -->\n",
       "<svg width=\"53pt\" height=\"53pt\"\n",
       " viewBox=\"0.00 0.00 53.50 53.50\" xmlns=\"http://www.w3.org/2000/svg\" xmlns:xlink=\"http://www.w3.org/1999/xlink\">\n",
       "<g id=\"graph0\" class=\"graph\" transform=\"scale(1 1) rotate(0) translate(4 49.5)\">\n",
       "<title>%3</title>\n",
       "<polygon fill=\"white\" stroke=\"transparent\" points=\"-4,4 -4,-49.5 49.5,-49.5 49.5,4 -4,4\"/>\n",
       "<!-- __main__.BST object at 0x7fb258b8e440 -->\n",
       "<g id=\"node1\" class=\"node\">\n",
       "<title>__main__.BST object at 0x7fb258b8e440</title>\n",
       "<ellipse fill=\"none\" stroke=\"black\" cx=\"22.75\" cy=\"-22.75\" rx=\"23\" ry=\"23\"/>\n",
       "<text text-anchor=\"middle\" x=\"22.75\" y=\"-19.05\" font-family=\"Times,serif\" font-size=\"14.00\">20</text>\n",
       "</g>\n",
       "</g>\n",
       "</svg>\n"
      ],
      "text/plain": [
       "<graphviz.graphs.Digraph at 0x7fb26ac740a0>"
      ]
     },
     "metadata": {},
     "output_type": "display_data"
    }
   ],
   "source": [
    "visualize_tree(b)"
   ]
  },
  {
   "cell_type": "code",
   "execution_count": 64,
   "id": "85d914ba-71c2-4e85-b3e2-b099c9880545",
   "metadata": {},
   "outputs": [
    {
     "data": {
      "image/svg+xml": [
       "<?xml version=\"1.0\" encoding=\"UTF-8\" standalone=\"no\"?>\n",
       "<!DOCTYPE svg PUBLIC \"-//W3C//DTD SVG 1.1//EN\"\n",
       " \"http://www.w3.org/Graphics/SVG/1.1/DTD/svg11.dtd\">\n",
       "<!-- Generated by graphviz version 2.43.0 (0)\n",
       " -->\n",
       "<!-- Title: %3 Pages: 1 -->\n",
       "<svg width=\"61pt\" height=\"143pt\"\n",
       " viewBox=\"0.00 0.00 61.50 142.99\" xmlns=\"http://www.w3.org/2000/svg\" xmlns:xlink=\"http://www.w3.org/1999/xlink\">\n",
       "<g id=\"graph0\" class=\"graph\" transform=\"scale(1 1) rotate(0) translate(4 138.99)\">\n",
       "<title>%3</title>\n",
       "<polygon fill=\"white\" stroke=\"transparent\" points=\"-4,4 -4,-138.99 57.5,-138.99 57.5,4 -4,4\"/>\n",
       "<!-- __main__.BST object at 0x7fb258b8e440 -->\n",
       "<g id=\"node1\" class=\"node\">\n",
       "<title>__main__.BST object at 0x7fb258b8e440</title>\n",
       "<ellipse fill=\"none\" stroke=\"black\" cx=\"26.75\" cy=\"-112.24\" rx=\"23\" ry=\"23\"/>\n",
       "<text text-anchor=\"middle\" x=\"26.75\" y=\"-108.54\" font-family=\"Times,serif\" font-size=\"14.00\">20</text>\n",
       "</g>\n",
       "<!-- __main__.BST object at 0x7fb258b8dae0 -->\n",
       "<g id=\"node2\" class=\"node\">\n",
       "<title>__main__.BST object at 0x7fb258b8dae0</title>\n",
       "<ellipse fill=\"seashell\" stroke=\"black\" cx=\"26.75\" cy=\"-26.75\" rx=\"22.96\" ry=\"22.96\"/>\n",
       "<ellipse fill=\"none\" stroke=\"black\" cx=\"26.75\" cy=\"-26.75\" rx=\"27\" ry=\"27\"/>\n",
       "<text text-anchor=\"middle\" x=\"26.75\" y=\"-23.05\" font-family=\"Times,serif\" font-size=\"14.00\">24</text>\n",
       "</g>\n",
       "<!-- __main__.BST object at 0x7fb258b8e440&#45;&gt;__main__.BST object at 0x7fb258b8dae0 -->\n",
       "<g id=\"edge1\" class=\"edge\">\n",
       "<title>__main__.BST object at 0x7fb258b8e440&#45;&gt;__main__.BST object at 0x7fb258b8dae0</title>\n",
       "<path fill=\"none\" stroke=\"black\" d=\"M26.75,-89.31C26.75,-81.54 26.75,-72.59 26.75,-63.96\"/>\n",
       "<polygon fill=\"black\" stroke=\"black\" points=\"30.25,-63.69 26.75,-53.69 23.25,-63.69 30.25,-63.69\"/>\n",
       "</g>\n",
       "</g>\n",
       "</svg>\n"
      ],
      "text/plain": [
       "<graphviz.graphs.Digraph at 0x7fb258a09360>"
      ]
     },
     "metadata": {},
     "output_type": "display_data"
    }
   ],
   "source": [
    "b.insert(24)\n",
    "visualize_tree(b)"
   ]
  },
  {
   "cell_type": "code",
   "execution_count": 65,
   "id": "121cb0a1-8490-43f2-b138-e3654e555f15",
   "metadata": {},
   "outputs": [
    {
     "data": {
      "image/svg+xml": [
       "<?xml version=\"1.0\" encoding=\"UTF-8\" standalone=\"no\"?>\n",
       "<!DOCTYPE svg PUBLIC \"-//W3C//DTD SVG 1.1//EN\"\n",
       " \"http://www.w3.org/Graphics/SVG/1.1/DTD/svg11.dtd\">\n",
       "<!-- Generated by graphviz version 2.43.0 (0)\n",
       " -->\n",
       "<!-- Title: %3 Pages: 1 -->\n",
       "<svg width=\"124pt\" height=\"143pt\"\n",
       " viewBox=\"0.00 0.00 124.50 142.99\" xmlns=\"http://www.w3.org/2000/svg\" xmlns:xlink=\"http://www.w3.org/1999/xlink\">\n",
       "<g id=\"graph0\" class=\"graph\" transform=\"scale(1 1) rotate(0) translate(4 138.99)\">\n",
       "<title>%3</title>\n",
       "<polygon fill=\"white\" stroke=\"transparent\" points=\"-4,4 -4,-138.99 120.5,-138.99 120.5,4 -4,4\"/>\n",
       "<!-- __main__.BST object at 0x7fb258b8e440 -->\n",
       "<g id=\"node1\" class=\"node\">\n",
       "<title>__main__.BST object at 0x7fb258b8e440</title>\n",
       "<ellipse fill=\"none\" stroke=\"black\" cx=\"55.75\" cy=\"-112.24\" rx=\"23\" ry=\"23\"/>\n",
       "<text text-anchor=\"middle\" x=\"55.75\" y=\"-108.54\" font-family=\"Times,serif\" font-size=\"14.00\">20</text>\n",
       "</g>\n",
       "<!-- __main__.BST object at 0x7fb26ae2d5d0 -->\n",
       "<g id=\"node2\" class=\"node\">\n",
       "<title>__main__.BST object at 0x7fb26ae2d5d0</title>\n",
       "<ellipse fill=\"lightblue\" stroke=\"black\" cx=\"22.75\" cy=\"-26.75\" rx=\"23\" ry=\"23\"/>\n",
       "<text text-anchor=\"middle\" x=\"22.75\" y=\"-23.05\" font-family=\"Times,serif\" font-size=\"14.00\">10</text>\n",
       "</g>\n",
       "<!-- __main__.BST object at 0x7fb258b8e440&#45;&gt;__main__.BST object at 0x7fb26ae2d5d0 -->\n",
       "<g id=\"edge1\" class=\"edge\">\n",
       "<title>__main__.BST object at 0x7fb258b8e440&#45;&gt;__main__.BST object at 0x7fb26ae2d5d0</title>\n",
       "<path fill=\"none\" stroke=\"black\" d=\"M47.59,-90.6C43.67,-80.7 38.91,-68.63 34.6,-57.74\"/>\n",
       "<polygon fill=\"black\" stroke=\"black\" points=\"37.74,-56.16 30.81,-48.15 31.23,-58.74 37.74,-56.16\"/>\n",
       "</g>\n",
       "<!-- __main__.BST object at 0x7fb258b8dae0 -->\n",
       "<g id=\"node3\" class=\"node\">\n",
       "<title>__main__.BST object at 0x7fb258b8dae0</title>\n",
       "<ellipse fill=\"seashell\" stroke=\"black\" cx=\"89.75\" cy=\"-26.75\" rx=\"22.96\" ry=\"22.96\"/>\n",
       "<ellipse fill=\"none\" stroke=\"black\" cx=\"89.75\" cy=\"-26.75\" rx=\"27\" ry=\"27\"/>\n",
       "<text text-anchor=\"middle\" x=\"89.75\" y=\"-23.05\" font-family=\"Times,serif\" font-size=\"14.00\">24</text>\n",
       "</g>\n",
       "<!-- __main__.BST object at 0x7fb258b8e440&#45;&gt;__main__.BST object at 0x7fb258b8dae0 -->\n",
       "<g id=\"edge2\" class=\"edge\">\n",
       "<title>__main__.BST object at 0x7fb258b8e440&#45;&gt;__main__.BST object at 0x7fb258b8dae0</title>\n",
       "<path fill=\"none\" stroke=\"black\" d=\"M63.98,-91.03C67.61,-82.11 71.98,-71.38 76.08,-61.31\"/>\n",
       "<polygon fill=\"black\" stroke=\"black\" points=\"79.37,-62.52 79.9,-51.93 72.89,-59.88 79.37,-62.52\"/>\n",
       "</g>\n",
       "</g>\n",
       "</svg>\n"
      ],
      "text/plain": [
       "<graphviz.graphs.Digraph at 0x7fb258a0a170>"
      ]
     },
     "metadata": {},
     "output_type": "display_data"
    }
   ],
   "source": [
    "b.insert(10)\n",
    "visualize_tree(b)"
   ]
  },
  {
   "cell_type": "code",
   "execution_count": 66,
   "id": "964e7eb1-30a2-4785-9816-a15d66d7c44e",
   "metadata": {},
   "outputs": [
    {
     "data": {
      "image/svg+xml": [
       "<?xml version=\"1.0\" encoding=\"UTF-8\" standalone=\"no\"?>\n",
       "<!DOCTYPE svg PUBLIC \"-//W3C//DTD SVG 1.1//EN\"\n",
       " \"http://www.w3.org/Graphics/SVG/1.1/DTD/svg11.dtd\">\n",
       "<!-- Generated by graphviz version 2.43.0 (0)\n",
       " -->\n",
       "<!-- Title: %3 Pages: 1 -->\n",
       "<svg width=\"124pt\" height=\"215pt\"\n",
       " viewBox=\"0.00 0.00 124.50 214.99\" xmlns=\"http://www.w3.org/2000/svg\" xmlns:xlink=\"http://www.w3.org/1999/xlink\">\n",
       "<g id=\"graph0\" class=\"graph\" transform=\"scale(1 1) rotate(0) translate(4 210.99)\">\n",
       "<title>%3</title>\n",
       "<polygon fill=\"white\" stroke=\"transparent\" points=\"-4,4 -4,-210.99 120.5,-210.99 120.5,4 -4,4\"/>\n",
       "<!-- __main__.BST object at 0x7fb258b8e440 -->\n",
       "<g id=\"node1\" class=\"node\">\n",
       "<title>__main__.BST object at 0x7fb258b8e440</title>\n",
       "<ellipse fill=\"none\" stroke=\"black\" cx=\"55.75\" cy=\"-184.24\" rx=\"23\" ry=\"23\"/>\n",
       "<text text-anchor=\"middle\" x=\"55.75\" y=\"-180.54\" font-family=\"Times,serif\" font-size=\"14.00\">20</text>\n",
       "</g>\n",
       "<!-- __main__.BST object at 0x7fb26ae2d5d0 -->\n",
       "<g id=\"node2\" class=\"node\">\n",
       "<title>__main__.BST object at 0x7fb26ae2d5d0</title>\n",
       "<ellipse fill=\"lightblue\" stroke=\"black\" cx=\"22.75\" cy=\"-98.75\" rx=\"23\" ry=\"23\"/>\n",
       "<text text-anchor=\"middle\" x=\"22.75\" y=\"-95.05\" font-family=\"Times,serif\" font-size=\"14.00\">10</text>\n",
       "</g>\n",
       "<!-- __main__.BST object at 0x7fb258b8e440&#45;&gt;__main__.BST object at 0x7fb26ae2d5d0 -->\n",
       "<g id=\"edge1\" class=\"edge\">\n",
       "<title>__main__.BST object at 0x7fb258b8e440&#45;&gt;__main__.BST object at 0x7fb26ae2d5d0</title>\n",
       "<path fill=\"none\" stroke=\"black\" d=\"M47.59,-162.6C43.67,-152.7 38.91,-140.63 34.6,-129.74\"/>\n",
       "<polygon fill=\"black\" stroke=\"black\" points=\"37.74,-128.16 30.81,-120.15 31.23,-130.74 37.74,-128.16\"/>\n",
       "</g>\n",
       "<!-- __main__.BST object at 0x7fb258b8dae0 -->\n",
       "<g id=\"node4\" class=\"node\">\n",
       "<title>__main__.BST object at 0x7fb258b8dae0</title>\n",
       "<ellipse fill=\"seashell\" stroke=\"black\" cx=\"89.75\" cy=\"-98.75\" rx=\"22.96\" ry=\"22.96\"/>\n",
       "<ellipse fill=\"none\" stroke=\"black\" cx=\"89.75\" cy=\"-98.75\" rx=\"27\" ry=\"27\"/>\n",
       "<text text-anchor=\"middle\" x=\"89.75\" y=\"-95.05\" font-family=\"Times,serif\" font-size=\"14.00\">24</text>\n",
       "</g>\n",
       "<!-- __main__.BST object at 0x7fb258b8e440&#45;&gt;__main__.BST object at 0x7fb258b8dae0 -->\n",
       "<g id=\"edge3\" class=\"edge\">\n",
       "<title>__main__.BST object at 0x7fb258b8e440&#45;&gt;__main__.BST object at 0x7fb258b8dae0</title>\n",
       "<path fill=\"none\" stroke=\"black\" d=\"M63.98,-163.03C67.61,-154.11 71.98,-143.38 76.08,-133.31\"/>\n",
       "<polygon fill=\"black\" stroke=\"black\" points=\"79.37,-134.52 79.9,-123.93 72.89,-131.88 79.37,-134.52\"/>\n",
       "</g>\n",
       "<!-- __main__.BST object at 0x7fb258a5e590 -->\n",
       "<g id=\"node3\" class=\"node\">\n",
       "<title>__main__.BST object at 0x7fb258a5e590</title>\n",
       "<ellipse fill=\"lightblue\" stroke=\"black\" cx=\"22.75\" cy=\"-18\" rx=\"18\" ry=\"18\"/>\n",
       "<text text-anchor=\"middle\" x=\"22.75\" y=\"-14.3\" font-family=\"Times,serif\" font-size=\"14.00\">1</text>\n",
       "</g>\n",
       "<!-- __main__.BST object at 0x7fb26ae2d5d0&#45;&gt;__main__.BST object at 0x7fb258a5e590 -->\n",
       "<g id=\"edge2\" class=\"edge\">\n",
       "<title>__main__.BST object at 0x7fb26ae2d5d0&#45;&gt;__main__.BST object at 0x7fb258a5e590</title>\n",
       "<path fill=\"none\" stroke=\"black\" d=\"M22.75,-75.81C22.75,-66.69 22.75,-55.99 22.75,-46.36\"/>\n",
       "<polygon fill=\"black\" stroke=\"black\" points=\"26.25,-46.08 22.75,-36.08 19.25,-46.08 26.25,-46.08\"/>\n",
       "</g>\n",
       "</g>\n",
       "</svg>\n"
      ],
      "text/plain": [
       "<graphviz.graphs.Digraph at 0x7fb258b8e7d0>"
      ]
     },
     "metadata": {},
     "output_type": "display_data"
    }
   ],
   "source": [
    "b.insert(1)\n",
    "visualize_tree(b)"
   ]
  },
  {
   "cell_type": "code",
   "execution_count": 67,
   "id": "efe58a29-739f-46da-a72e-e88a56de3f14",
   "metadata": {},
   "outputs": [],
   "source": [
    "b.insert(21)\n",
    "b.insert(26)\n",
    "b.insert(25)"
   ]
  },
  {
   "cell_type": "code",
   "execution_count": 68,
   "id": "3ccf0890-2e55-492b-9682-07f39c937d78",
   "metadata": {},
   "outputs": [
    {
     "name": "stdout",
     "output_type": "stream",
     "text": [
      "1\n",
      "10\n",
      "20\n",
      "21\n",
      "24\n",
      "25\n",
      "26\n"
     ]
    }
   ],
   "source": [
    "b.dfs_inorder()"
   ]
  },
  {
   "cell_type": "code",
   "execution_count": 69,
   "id": "00f07585-f411-487a-b602-c62f8c21bf49",
   "metadata": {},
   "outputs": [],
   "source": [
    "# when you do inorder-traversal on BST you will get back sorted-values."
   ]
  },
  {
   "cell_type": "code",
   "execution_count": 70,
   "id": "b5bb1a99-50fe-45e2-b553-44565b028b89",
   "metadata": {},
   "outputs": [],
   "source": [
    "# Searching"
   ]
  },
  {
   "cell_type": "code",
   "execution_count": 94,
   "id": "2a83b09b-7438-47d4-83fe-a09e4f84dd5a",
   "metadata": {},
   "outputs": [],
   "source": [
    "def search_bst(self, val):\n",
    "    if val == self.val:\n",
    "        print(str(val) + \" is Present in BST.\")\n",
    "    \n",
    "    else:\n",
    "        if self.left != None and val < self.val:\n",
    "            self.left.search_bst(val)\n",
    "        elif self.right != None and val > self.val:\n",
    "            self.right.search_bst(val)\n",
    "        else:\n",
    "            print(str(val) + \" is Not present in BST.\")\n",
    "    #return \"Number not found.\"\n",
    "BST.search_bst = search_bst"
   ]
  },
  {
   "cell_type": "code",
   "execution_count": 95,
   "id": "11f6628a-78be-40a0-9bc1-b1599d37cff9",
   "metadata": {
    "tags": []
   },
   "outputs": [
    {
     "name": "stdout",
     "output_type": "stream",
     "text": [
      "0 is Not present in BST.\n",
      "1 is Present in BST.\n",
      "2 is Not present in BST.\n",
      "3 is Not present in BST.\n",
      "4 is Not present in BST.\n",
      "5 is Not present in BST.\n",
      "6 is Not present in BST.\n",
      "7 is Not present in BST.\n",
      "8 is Not present in BST.\n",
      "9 is Not present in BST.\n",
      "10 is Present in BST.\n",
      "11 is Not present in BST.\n",
      "12 is Not present in BST.\n",
      "13 is Not present in BST.\n",
      "14 is Not present in BST.\n",
      "15 is Not present in BST.\n",
      "16 is Not present in BST.\n",
      "17 is Not present in BST.\n",
      "18 is Not present in BST.\n",
      "19 is Not present in BST.\n",
      "20 is Present in BST.\n",
      "21 is Present in BST.\n",
      "22 is Not present in BST.\n",
      "23 is Not present in BST.\n",
      "24 is Present in BST.\n",
      "25 is Present in BST.\n"
     ]
    }
   ],
   "source": [
    "for i in range(26):\n",
    "    b.search_bst(i)"
   ]
  },
  {
   "cell_type": "code",
   "execution_count": 73,
   "id": "e2e44653-c3c5-4d37-b833-0517f9242ebe",
   "metadata": {},
   "outputs": [
    {
     "data": {
      "image/svg+xml": [
       "<?xml version=\"1.0\" encoding=\"UTF-8\" standalone=\"no\"?>\n",
       "<!DOCTYPE svg PUBLIC \"-//W3C//DTD SVG 1.1//EN\"\n",
       " \"http://www.w3.org/Graphics/SVG/1.1/DTD/svg11.dtd\">\n",
       "<!-- Generated by graphviz version 2.43.0 (0)\n",
       " -->\n",
       "<!-- Title: %3 Pages: 1 -->\n",
       "<svg width=\"187pt\" height=\"314pt\"\n",
       " viewBox=\"0.00 0.00 187.50 313.98\" xmlns=\"http://www.w3.org/2000/svg\" xmlns:xlink=\"http://www.w3.org/1999/xlink\">\n",
       "<g id=\"graph0\" class=\"graph\" transform=\"scale(1 1) rotate(0) translate(4 309.98)\">\n",
       "<title>%3</title>\n",
       "<polygon fill=\"white\" stroke=\"transparent\" points=\"-4,4 -4,-309.98 183.5,-309.98 183.5,4 -4,4\"/>\n",
       "<!-- __main__.BST object at 0x7fb258b8e440 -->\n",
       "<g id=\"node1\" class=\"node\">\n",
       "<title>__main__.BST object at 0x7fb258b8e440</title>\n",
       "<ellipse fill=\"none\" stroke=\"black\" cx=\"55.75\" cy=\"-283.24\" rx=\"23\" ry=\"23\"/>\n",
       "<text text-anchor=\"middle\" x=\"55.75\" y=\"-279.54\" font-family=\"Times,serif\" font-size=\"14.00\">20</text>\n",
       "</g>\n",
       "<!-- __main__.BST object at 0x7fb26ae2d5d0 -->\n",
       "<g id=\"node2\" class=\"node\">\n",
       "<title>__main__.BST object at 0x7fb26ae2d5d0</title>\n",
       "<ellipse fill=\"lightblue\" stroke=\"black\" cx=\"22.75\" cy=\"-197.74\" rx=\"23\" ry=\"23\"/>\n",
       "<text text-anchor=\"middle\" x=\"22.75\" y=\"-194.04\" font-family=\"Times,serif\" font-size=\"14.00\">10</text>\n",
       "</g>\n",
       "<!-- __main__.BST object at 0x7fb258b8e440&#45;&gt;__main__.BST object at 0x7fb26ae2d5d0 -->\n",
       "<g id=\"edge1\" class=\"edge\">\n",
       "<title>__main__.BST object at 0x7fb258b8e440&#45;&gt;__main__.BST object at 0x7fb26ae2d5d0</title>\n",
       "<path fill=\"none\" stroke=\"black\" d=\"M47.59,-261.6C43.67,-251.69 38.91,-239.63 34.6,-228.73\"/>\n",
       "<polygon fill=\"black\" stroke=\"black\" points=\"37.74,-227.16 30.81,-219.14 31.23,-229.73 37.74,-227.16\"/>\n",
       "</g>\n",
       "<!-- __main__.BST object at 0x7fb258b8dae0 -->\n",
       "<g id=\"node4\" class=\"node\">\n",
       "<title>__main__.BST object at 0x7fb258b8dae0</title>\n",
       "<ellipse fill=\"seashell\" stroke=\"black\" cx=\"89.75\" cy=\"-197.74\" rx=\"22.96\" ry=\"22.96\"/>\n",
       "<ellipse fill=\"none\" stroke=\"black\" cx=\"89.75\" cy=\"-197.74\" rx=\"27\" ry=\"27\"/>\n",
       "<text text-anchor=\"middle\" x=\"89.75\" y=\"-194.04\" font-family=\"Times,serif\" font-size=\"14.00\">24</text>\n",
       "</g>\n",
       "<!-- __main__.BST object at 0x7fb258b8e440&#45;&gt;__main__.BST object at 0x7fb258b8dae0 -->\n",
       "<g id=\"edge3\" class=\"edge\">\n",
       "<title>__main__.BST object at 0x7fb258b8e440&#45;&gt;__main__.BST object at 0x7fb258b8dae0</title>\n",
       "<path fill=\"none\" stroke=\"black\" d=\"M63.98,-262.02C67.61,-253.1 71.98,-242.37 76.08,-232.3\"/>\n",
       "<polygon fill=\"black\" stroke=\"black\" points=\"79.37,-233.51 79.9,-222.93 72.89,-230.87 79.37,-233.51\"/>\n",
       "</g>\n",
       "<!-- __main__.BST object at 0x7fb258a5e590 -->\n",
       "<g id=\"node3\" class=\"node\">\n",
       "<title>__main__.BST object at 0x7fb258a5e590</title>\n",
       "<ellipse fill=\"lightblue\" stroke=\"black\" cx=\"22.75\" cy=\"-108.24\" rx=\"18\" ry=\"18\"/>\n",
       "<text text-anchor=\"middle\" x=\"22.75\" y=\"-104.54\" font-family=\"Times,serif\" font-size=\"14.00\">1</text>\n",
       "</g>\n",
       "<!-- __main__.BST object at 0x7fb26ae2d5d0&#45;&gt;__main__.BST object at 0x7fb258a5e590 -->\n",
       "<g id=\"edge2\" class=\"edge\">\n",
       "<title>__main__.BST object at 0x7fb26ae2d5d0&#45;&gt;__main__.BST object at 0x7fb258a5e590</title>\n",
       "<path fill=\"none\" stroke=\"black\" d=\"M22.75,-174.66C22.75,-163.07 22.75,-148.77 22.75,-136.49\"/>\n",
       "<polygon fill=\"black\" stroke=\"black\" points=\"26.25,-136.35 22.75,-126.35 19.25,-136.35 26.25,-136.35\"/>\n",
       "</g>\n",
       "<!-- __main__.BST object at 0x7fb258a09150 -->\n",
       "<g id=\"node5\" class=\"node\">\n",
       "<title>__main__.BST object at 0x7fb258a09150</title>\n",
       "<ellipse fill=\"lightblue\" stroke=\"black\" cx=\"85.75\" cy=\"-108.24\" rx=\"23\" ry=\"23\"/>\n",
       "<text text-anchor=\"middle\" x=\"85.75\" y=\"-104.54\" font-family=\"Times,serif\" font-size=\"14.00\">21</text>\n",
       "</g>\n",
       "<!-- __main__.BST object at 0x7fb258b8dae0&#45;&gt;__main__.BST object at 0x7fb258a09150 -->\n",
       "<g id=\"edge4\" class=\"edge\">\n",
       "<title>__main__.BST object at 0x7fb258b8dae0&#45;&gt;__main__.BST object at 0x7fb258a09150</title>\n",
       "<path fill=\"none\" stroke=\"black\" d=\"M88.57,-170.96C88.14,-161.63 87.66,-150.98 87.21,-141.19\"/>\n",
       "<polygon fill=\"black\" stroke=\"black\" points=\"90.7,-140.83 86.74,-131 83.7,-141.15 90.7,-140.83\"/>\n",
       "</g>\n",
       "<!-- __main__.BST object at 0x7fb258a083a0 -->\n",
       "<g id=\"node6\" class=\"node\">\n",
       "<title>__main__.BST object at 0x7fb258a083a0</title>\n",
       "<ellipse fill=\"seashell\" stroke=\"black\" cx=\"152.75\" cy=\"-108.24\" rx=\"22.96\" ry=\"22.96\"/>\n",
       "<ellipse fill=\"none\" stroke=\"black\" cx=\"152.75\" cy=\"-108.24\" rx=\"27\" ry=\"27\"/>\n",
       "<text text-anchor=\"middle\" x=\"152.75\" y=\"-104.54\" font-family=\"Times,serif\" font-size=\"14.00\">26</text>\n",
       "</g>\n",
       "<!-- __main__.BST object at 0x7fb258b8dae0&#45;&gt;__main__.BST object at 0x7fb258a083a0 -->\n",
       "<g id=\"edge5\" class=\"edge\">\n",
       "<title>__main__.BST object at 0x7fb258b8dae0&#45;&gt;__main__.BST object at 0x7fb258a083a0</title>\n",
       "<path fill=\"none\" stroke=\"black\" d=\"M105,-175.56C112.91,-164.57 122.71,-150.97 131.36,-138.95\"/>\n",
       "<polygon fill=\"black\" stroke=\"black\" points=\"134.42,-140.69 137.42,-130.53 128.74,-136.6 134.42,-140.69\"/>\n",
       "</g>\n",
       "<!-- __main__.BST object at 0x7fb258a0baf0 -->\n",
       "<g id=\"node7\" class=\"node\">\n",
       "<title>__main__.BST object at 0x7fb258a0baf0</title>\n",
       "<ellipse fill=\"lightblue\" stroke=\"black\" cx=\"152.75\" cy=\"-22.75\" rx=\"23\" ry=\"23\"/>\n",
       "<text text-anchor=\"middle\" x=\"152.75\" y=\"-19.05\" font-family=\"Times,serif\" font-size=\"14.00\">25</text>\n",
       "</g>\n",
       "<!-- __main__.BST object at 0x7fb258a083a0&#45;&gt;__main__.BST object at 0x7fb258a0baf0 -->\n",
       "<g id=\"edge6\" class=\"edge\">\n",
       "<title>__main__.BST object at 0x7fb258a083a0&#45;&gt;__main__.BST object at 0x7fb258a0baf0</title>\n",
       "<path fill=\"none\" stroke=\"black\" d=\"M152.75,-81.28C152.75,-73.27 152.75,-64.35 152.75,-55.97\"/>\n",
       "<polygon fill=\"black\" stroke=\"black\" points=\"156.25,-55.76 152.75,-45.76 149.25,-55.76 156.25,-55.76\"/>\n",
       "</g>\n",
       "</g>\n",
       "</svg>\n"
      ],
      "text/plain": [
       "<graphviz.graphs.Digraph at 0x7fb258a88400>"
      ]
     },
     "metadata": {},
     "output_type": "display_data"
    }
   ],
   "source": [
    "visualize_tree(b)"
   ]
  },
  {
   "cell_type": "code",
   "execution_count": null,
   "id": "a6331053-b998-460c-adab-509abe2fd6b2",
   "metadata": {},
   "outputs": [],
   "source": []
  }
 ],
 "metadata": {
  "kernelspec": {
   "display_name": "Python 3 (ipykernel)",
   "language": "python",
   "name": "python3"
  },
  "language_info": {
   "codemirror_mode": {
    "name": "ipython",
    "version": 3
   },
   "file_extension": ".py",
   "mimetype": "text/x-python",
   "name": "python",
   "nbconvert_exporter": "python",
   "pygments_lexer": "ipython3",
   "version": "3.10.9"
  }
 },
 "nbformat": 4,
 "nbformat_minor": 5
}
